{
 "cells": [
  {
   "cell_type": "markdown",
   "metadata": {},
   "source": [
    "# import the necessary packages"
   ]
  },
  {
   "cell_type": "code",
   "execution_count": 1,
   "metadata": {},
   "outputs": [
    {
     "name": "stderr",
     "output_type": "stream",
     "text": [
      "<ipython-input-1-5c9830f43a76>:13: DeprecationWarning: `import kerastuner` is deprecated, please use `import keras_tuner`.\n",
      "  from kerastuner.tuners import RandomSearch\n"
     ]
    }
   ],
   "source": [
    "from tensorflow.keras.models import Model\n",
    "from tensorflow.keras.layers import Input\n",
    "from tensorflow.keras.layers import Conv2D\n",
    "from tensorflow.keras.layers import Dense\n",
    "from tensorflow.keras.layers import Dropout\n",
    "from tensorflow.keras.layers import GlobalAveragePooling2D\n",
    "from tensorflow.keras.layers import MaxPooling2D\n",
    "from tensorflow.keras.layers import Lambda\n",
    "from tensorflow.keras.datasets import mnist\n",
    "from tensorflow.keras.callbacks import Callback\n",
    "from tensorflow.keras.models import load_model\n",
    "\n",
    "from kerastuner.tuners import RandomSearch\n",
    "from kerastuner.engine.hyperparameters import HyperParameters\n",
    "import time\n",
    "\n",
    "import tensorflow as tf\n",
    "\n",
    "from tensorflow.keras.preprocessing.sequence import pad_sequences\n",
    "# import the necessary packages\n",
    "import tensorflow.keras.backend as K\n",
    "import matplotlib.pyplot as plt\n",
    "import numpy as np\n",
    "import pandas as pd\n",
    "from encoder import *\n",
    "from pairing import *"
   ]
  },
  {
   "cell_type": "markdown",
   "metadata": {},
   "source": [
    "# Idea From \n",
    "\n",
    "[Siamese Convolutional Networks for Cognate Identification by Taraka Rama](https://aclanthology.org/C16-1097.pdf)"
   ]
  },
  {
   "cell_type": "markdown",
   "metadata": {},
   "source": [
    "# Basic "
   ]
  },
  {
   "cell_type": "markdown",
   "metadata": {},
   "source": [
    "# Global Variables"
   ]
  },
  {
   "cell_type": "code",
   "execution_count": 2,
   "metadata": {},
   "outputs": [],
   "source": [
    "import os\n",
    "# specify the shape of the inputs for our network\n",
    "IMG_SHAPE = (25, 25, 1)\n",
    "# specify the batch size and number of epochs\n",
    "BATCH_SIZE = 64\n",
    "EPOCHS = 300\n",
    "# define the path to the base output directory\n",
    "BASE_OUTPUT = \"output\"\n",
    "# use the base output path to derive the path to the serialized\n",
    "# model along with training history plot\n",
    "MODEL_PATH = os.path.sep.join([BASE_OUTPUT, \"siamese_model\"])\n",
    "PLOT_PATH = os.path.sep.join([BASE_OUTPUT, \"plot.png\"])\n",
    "\n",
    "LOG_DIR = f\"{int(time.time())}\""
   ]
  },
  {
   "cell_type": "code",
   "execution_count": 3,
   "metadata": {},
   "outputs": [],
   "source": [
    "class myCallback(Callback):\n",
    "    def on_epoch_end(self,epoch,logs={}):\n",
    "        if((logs.get('accuracy') > 0.9) and (logs.get('val_accuracy') > 0.74)):\n",
    "            print(\"\\n[INFO] Reached target accuracy so canceling training\")\n",
    "            self.model.stop_training = True"
   ]
  },
  {
   "cell_type": "markdown",
   "metadata": {},
   "source": [
    "# Training Data"
   ]
  },
  {
   "cell_type": "code",
   "execution_count": 4,
   "metadata": {},
   "outputs": [],
   "source": [
    "def plot_training(H, plotPath):\n",
    "\t# construct a plot that plots and saves the training history\n",
    "\tplt.style.use(\"ggplot\")\n",
    "\tplt.figure()\n",
    "\tplt.plot(H.history[\"loss\"], label=\"train_loss\")\n",
    "\tplt.plot(H.history[\"val_loss\"], label=\"val_loss\")\n",
    "\tplt.plot(H.history[\"accuracy\"], label=\"train_acc\")\n",
    "\tplt.plot(H.history[\"val_accuracy\"], label=\"val_acc\")\n",
    "\tplt.title(\"Training Loss and Accuracy\")\n",
    "\tplt.xlabel(\"Epoch #\")\n",
    "\tplt.ylabel(\"Loss/Accuracy\")\n",
    "\tplt.legend(loc=\"lower left\")\n",
    "    \n",
    "\tplt.show()\n",
    "    "
   ]
  },
  {
   "cell_type": "markdown",
   "metadata": {},
   "source": [
    " # load the necessarry data "
   ]
  },
  {
   "cell_type": "code",
   "execution_count": 5,
   "metadata": {},
   "outputs": [],
   "source": [
    "df = pd.read_excel(\"/Users/haroldsmith/Desktop/CognatePredictor/conjoined_hash_table.xlsx\")\n"
   ]
  },
  {
   "cell_type": "code",
   "execution_count": 6,
   "metadata": {},
   "outputs": [
    {
     "name": "stderr",
     "output_type": "stream",
     "text": [
      "<ipython-input-6-e0ab748b9143>:6: SettingWithCopyWarning: \n",
      "A value is trying to be set on a copy of a slice from a DataFrame.\n",
      "Try using .loc[row_indexer,col_indexer] = value instead\n",
      "\n",
      "See the caveats in the documentation: https://pandas.pydata.org/pandas-docs/stable/user_guide/indexing.html#returning-a-view-versus-a-copy\n",
      "  located[\"Phonological Cognate\"] = located[\"Phonological Cognate\"].to_numpy() - 1\n"
     ]
    }
   ],
   "source": [
    "vals = np.arange(1,20,1)\n",
    "\n",
    "df_no_label = df.loc[~df[\"Phonological Cognate\"].isin(vals)]\n",
    "located = df.loc[df[\"Phonological Cognate\"].isin(vals)]\n",
    "\n",
    "located[\"Phonological Cognate\"] = located[\"Phonological Cognate\"].to_numpy() - 1\n",
    "\n",
    "\n",
    "\n"
   ]
  },
  {
   "cell_type": "code",
   "execution_count": 7,
   "metadata": {},
   "outputs": [
    {
     "data": {
      "text/html": [
       "<div>\n",
       "<style scoped>\n",
       "    .dataframe tbody tr th:only-of-type {\n",
       "        vertical-align: middle;\n",
       "    }\n",
       "\n",
       "    .dataframe tbody tr th {\n",
       "        vertical-align: top;\n",
       "    }\n",
       "\n",
       "    .dataframe thead th {\n",
       "        text-align: right;\n",
       "    }\n",
       "</style>\n",
       "<table border=\"1\" class=\"dataframe\">\n",
       "  <thead>\n",
       "    <tr style=\"text-align: right;\">\n",
       "      <th></th>\n",
       "      <th>Primary ID</th>\n",
       "      <th>prac_rep</th>\n",
       "      <th>tech_rep</th>\n",
       "      <th>spanish</th>\n",
       "      <th>english</th>\n",
       "      <th>latin</th>\n",
       "      <th>source</th>\n",
       "      <th>Phonological Cognate</th>\n",
       "      <th>Cognates</th>\n",
       "      <th>Proto-Zapotecan</th>\n",
       "      <th>Same Referent</th>\n",
       "      <th>Looser comparison</th>\n",
       "      <th>PZap_gloss</th>\n",
       "      <th>BiblioRef</th>\n",
       "      <th>Cordova_ethnobot</th>\n",
       "    </tr>\n",
       "  </thead>\n",
       "  <tbody>\n",
       "    <tr>\n",
       "      <th>82</th>\n",
       "      <td>67061</td>\n",
       "      <td>NaN</td>\n",
       "      <td>bziàa-bǐch-ngǎs</td>\n",
       "      <td>NaN</td>\n",
       "      <td>NaN</td>\n",
       "      <td>Fabaceae Vigna unguiculata(var.)</td>\n",
       "      <td>San Juan Mixtepec Zapotec</td>\n",
       "      <td>10.0</td>\n",
       "      <td>ngǎs</td>\n",
       "      <td>k-assak</td>\n",
       "      <td>NaN</td>\n",
       "      <td>NaN</td>\n",
       "      <td>black</td>\n",
       "      <td>NaN</td>\n",
       "      <td>NaN</td>\n",
       "    </tr>\n",
       "    <tr>\n",
       "      <th>99</th>\n",
       "      <td>67078</td>\n",
       "      <td>NaN</td>\n",
       "      <td>bziàa-dùuzh-ngǎs</td>\n",
       "      <td>NaN</td>\n",
       "      <td>NaN</td>\n",
       "      <td>Fabaceae Phaseolus vulgaris(var.)</td>\n",
       "      <td>San Juan Mixtepec Zapotec</td>\n",
       "      <td>10.0</td>\n",
       "      <td>ngǎs</td>\n",
       "      <td>k-assak</td>\n",
       "      <td>NaN</td>\n",
       "      <td>NaN</td>\n",
       "      <td>black</td>\n",
       "      <td>NaN</td>\n",
       "      <td>NaN</td>\n",
       "    </tr>\n",
       "    <tr>\n",
       "      <th>102</th>\n",
       "      <td>67081</td>\n",
       "      <td>NaN</td>\n",
       "      <td>bziàa-dùuzh-pînt-ngǎs</td>\n",
       "      <td>NaN</td>\n",
       "      <td>NaN</td>\n",
       "      <td>Fabaceae Phaseolus vulgaris(var.)</td>\n",
       "      <td>San Juan Mixtepec Zapotec</td>\n",
       "      <td>10.0</td>\n",
       "      <td>ngǎs</td>\n",
       "      <td>k-assak</td>\n",
       "      <td>NaN</td>\n",
       "      <td>NaN</td>\n",
       "      <td>black</td>\n",
       "      <td>NaN</td>\n",
       "      <td>NaN</td>\n",
       "    </tr>\n",
       "    <tr>\n",
       "      <th>108</th>\n",
       "      <td>67087</td>\n",
       "      <td>NaN</td>\n",
       "      <td>bziàa-ngǎs</td>\n",
       "      <td>NaN</td>\n",
       "      <td>NaN</td>\n",
       "      <td>Fabaceae Phaseolus vulgaris(var.)</td>\n",
       "      <td>San Juan Mixtepec Zapotec</td>\n",
       "      <td>10.0</td>\n",
       "      <td>ngǎs</td>\n",
       "      <td>k-assak</td>\n",
       "      <td>NaN</td>\n",
       "      <td>NaN</td>\n",
       "      <td>black</td>\n",
       "      <td>NaN</td>\n",
       "      <td>NaN</td>\n",
       "    </tr>\n",
       "    <tr>\n",
       "      <th>124</th>\n",
       "      <td>67103</td>\n",
       "      <td>NaN</td>\n",
       "      <td>càrpìntêr-ngǎs</td>\n",
       "      <td>NaN</td>\n",
       "      <td>NaN</td>\n",
       "      <td>Melanerpes formicivorus</td>\n",
       "      <td>San Juan Mixtepec Zapotec</td>\n",
       "      <td>10.0</td>\n",
       "      <td>ngǎs</td>\n",
       "      <td>k-assak</td>\n",
       "      <td>NaN</td>\n",
       "      <td>NaN</td>\n",
       "      <td>black</td>\n",
       "      <td>NaN</td>\n",
       "      <td>no</td>\n",
       "    </tr>\n",
       "    <tr>\n",
       "      <th>...</th>\n",
       "      <td>...</td>\n",
       "      <td>...</td>\n",
       "      <td>...</td>\n",
       "      <td>...</td>\n",
       "      <td>...</td>\n",
       "      <td>...</td>\n",
       "      <td>...</td>\n",
       "      <td>...</td>\n",
       "      <td>...</td>\n",
       "      <td>...</td>\n",
       "      <td>...</td>\n",
       "      <td>...</td>\n",
       "      <td>...</td>\n",
       "      <td>...</td>\n",
       "      <td>...</td>\n",
       "    </tr>\n",
       "    <tr>\n",
       "      <th>53313</th>\n",
       "      <td>321226</td>\n",
       "      <td>queeza</td>\n",
       "      <td>quèeza</td>\n",
       "      <td>picietl yerua que embeleña o emborracha. tabac...</td>\n",
       "      <td>NaN</td>\n",
       "      <td>NaN</td>\n",
       "      <td>Cordova</td>\n",
       "      <td>17.0</td>\n",
       "      <td>quèeza</td>\n",
       "      <td>ke7sa</td>\n",
       "      <td>NaN</td>\n",
       "      <td>NaN</td>\n",
       "      <td>NaN</td>\n",
       "      <td>NaN</td>\n",
       "      <td>Yes</td>\n",
       "    </tr>\n",
       "    <tr>\n",
       "      <th>60691</th>\n",
       "      <td>328604</td>\n",
       "      <td>quijxitiche</td>\n",
       "      <td>quijxi-tíche</td>\n",
       "      <td>roçado assi antes que se pegue fuego. [roçar m...</td>\n",
       "      <td>NaN</td>\n",
       "      <td>NaN</td>\n",
       "      <td>Cordova</td>\n",
       "      <td>18.0</td>\n",
       "      <td>quijxi</td>\n",
       "      <td>kixi</td>\n",
       "      <td>NaN</td>\n",
       "      <td>NaN</td>\n",
       "      <td>NaN</td>\n",
       "      <td>NaN</td>\n",
       "      <td>Yes</td>\n",
       "    </tr>\n",
       "    <tr>\n",
       "      <th>70638</th>\n",
       "      <td>338551</td>\n",
       "      <td>peea</td>\n",
       "      <td>peea</td>\n",
       "      <td>xetas o hongos</td>\n",
       "      <td>NaN</td>\n",
       "      <td>NaN</td>\n",
       "      <td>Cordova</td>\n",
       "      <td>15.0</td>\n",
       "      <td>peea</td>\n",
       "      <td>kw+ e7ya</td>\n",
       "      <td>NaN</td>\n",
       "      <td>NaN</td>\n",
       "      <td>NaN</td>\n",
       "      <td>NaN</td>\n",
       "      <td>Yes</td>\n",
       "    </tr>\n",
       "    <tr>\n",
       "      <th>70639</th>\n",
       "      <td>338552</td>\n",
       "      <td>peya</td>\n",
       "      <td>peya</td>\n",
       "      <td>xetas o hongos</td>\n",
       "      <td>NaN</td>\n",
       "      <td>NaN</td>\n",
       "      <td>Cordova</td>\n",
       "      <td>15.0</td>\n",
       "      <td>peya</td>\n",
       "      <td>kw+ e7ya</td>\n",
       "      <td>NaN</td>\n",
       "      <td>NaN</td>\n",
       "      <td>NaN</td>\n",
       "      <td>NaN</td>\n",
       "      <td>Yes</td>\n",
       "    </tr>\n",
       "    <tr>\n",
       "      <th>70863</th>\n",
       "      <td>338776</td>\n",
       "      <td>NaN</td>\n",
       "      <td>yâg</td>\n",
       "      <td>árbol</td>\n",
       "      <td>tree</td>\n",
       "      <td>NaN</td>\n",
       "      <td>San Juan Mixtepec Zapotec</td>\n",
       "      <td>0.0</td>\n",
       "      <td>yâg</td>\n",
       "      <td>yaka</td>\n",
       "      <td>NaN</td>\n",
       "      <td>NaN</td>\n",
       "      <td>tree</td>\n",
       "      <td>https://faculty.washington.edu/hunn/vitae/Hunn...</td>\n",
       "      <td>NaN</td>\n",
       "    </tr>\n",
       "  </tbody>\n",
       "</table>\n",
       "<p>426 rows × 15 columns</p>\n",
       "</div>"
      ],
      "text/plain": [
       "       Primary ID     prac_rep               tech_rep  \\\n",
       "82          67061          NaN        bziàa-bǐch-ngǎs   \n",
       "99          67078          NaN       bziàa-dùuzh-ngǎs   \n",
       "102         67081          NaN  bziàa-dùuzh-pînt-ngǎs   \n",
       "108         67087          NaN             bziàa-ngǎs   \n",
       "124         67103          NaN         càrpìntêr-ngǎs   \n",
       "...           ...          ...                    ...   \n",
       "53313      321226       queeza                 quèeza   \n",
       "60691      328604  quijxitiche           quijxi-tíche   \n",
       "70638      338551         peea                   peea   \n",
       "70639      338552         peya                   peya   \n",
       "70863      338776          NaN                    yâg   \n",
       "\n",
       "                                                 spanish english  \\\n",
       "82                                                   NaN     NaN   \n",
       "99                                                   NaN     NaN   \n",
       "102                                                  NaN     NaN   \n",
       "108                                                  NaN     NaN   \n",
       "124                                                  NaN     NaN   \n",
       "...                                                  ...     ...   \n",
       "53313  picietl yerua que embeleña o emborracha. tabac...     NaN   \n",
       "60691  roçado assi antes que se pegue fuego. [roçar m...     NaN   \n",
       "70638                                     xetas o hongos     NaN   \n",
       "70639                                     xetas o hongos     NaN   \n",
       "70863                                              árbol    tree   \n",
       "\n",
       "                                   latin                     source  \\\n",
       "82      Fabaceae Vigna unguiculata(var.)  San Juan Mixtepec Zapotec   \n",
       "99     Fabaceae Phaseolus vulgaris(var.)  San Juan Mixtepec Zapotec   \n",
       "102    Fabaceae Phaseolus vulgaris(var.)  San Juan Mixtepec Zapotec   \n",
       "108    Fabaceae Phaseolus vulgaris(var.)  San Juan Mixtepec Zapotec   \n",
       "124              Melanerpes formicivorus  San Juan Mixtepec Zapotec   \n",
       "...                                  ...                        ...   \n",
       "53313                                NaN                    Cordova   \n",
       "60691                                NaN                    Cordova   \n",
       "70638                                NaN                    Cordova   \n",
       "70639                                NaN                    Cordova   \n",
       "70863                                NaN  San Juan Mixtepec Zapotec   \n",
       "\n",
       "       Phonological Cognate Cognates Proto-Zapotecan Same Referent  \\\n",
       "82                     10.0     ngǎs         k-assak           NaN   \n",
       "99                     10.0     ngǎs         k-assak           NaN   \n",
       "102                    10.0     ngǎs         k-assak           NaN   \n",
       "108                    10.0     ngǎs         k-assak           NaN   \n",
       "124                    10.0     ngǎs         k-assak           NaN   \n",
       "...                     ...      ...             ...           ...   \n",
       "53313                  17.0   quèeza           ke7sa           NaN   \n",
       "60691                  18.0   quijxi            kixi           NaN   \n",
       "70638                  15.0     peea        kw+ e7ya           NaN   \n",
       "70639                  15.0     peya        kw+ e7ya           NaN   \n",
       "70863                   0.0      yâg            yaka           NaN   \n",
       "\n",
       "       Looser comparison PZap_gloss  \\\n",
       "82                   NaN      black   \n",
       "99                   NaN      black   \n",
       "102                  NaN      black   \n",
       "108                  NaN      black   \n",
       "124                  NaN      black   \n",
       "...                  ...        ...   \n",
       "53313                NaN        NaN   \n",
       "60691                NaN        NaN   \n",
       "70638                NaN        NaN   \n",
       "70639                NaN        NaN   \n",
       "70863                NaN       tree   \n",
       "\n",
       "                                               BiblioRef Cordova_ethnobot  \n",
       "82                                                   NaN              NaN  \n",
       "99                                                   NaN              NaN  \n",
       "102                                                  NaN              NaN  \n",
       "108                                                  NaN              NaN  \n",
       "124                                                  NaN               no  \n",
       "...                                                  ...              ...  \n",
       "53313                                                NaN              Yes  \n",
       "60691                                                NaN              Yes  \n",
       "70638                                                NaN              Yes  \n",
       "70639                                                NaN              Yes  \n",
       "70863  https://faculty.washington.edu/hunn/vitae/Hunn...              NaN  \n",
       "\n",
       "[426 rows x 15 columns]"
      ]
     },
     "execution_count": 7,
     "metadata": {},
     "output_type": "execute_result"
    }
   ],
   "source": [
    "\n",
    "located"
   ]
  },
  {
   "cell_type": "markdown",
   "metadata": {},
   "source": [
    "# EDA"
   ]
  },
  {
   "cell_type": "code",
   "execution_count": 8,
   "metadata": {},
   "outputs": [
    {
     "data": {
      "text/plain": [
       "count     70085\n",
       "unique    62605\n",
       "top         lào\n",
       "freq         41\n",
       "Name: tech_rep, dtype: object"
      ]
     },
     "execution_count": 8,
     "metadata": {},
     "output_type": "execute_result"
    }
   ],
   "source": [
    "df[\"tech_rep\"].describe()"
   ]
  },
  {
   "cell_type": "code",
   "execution_count": 9,
   "metadata": {},
   "outputs": [
    {
     "data": {
      "text/plain": [
       "Cordova                      66978\n",
       "San Juan Mixtepec Zapotec     1804\n",
       "Diidxazá                      1062\n",
       "Zenzontepec Chatino           1020\n",
       "Name: source, dtype: int64"
      ]
     },
     "execution_count": 9,
     "metadata": {},
     "output_type": "execute_result"
    }
   ],
   "source": [
    "df[\"source\"].value_counts(0)"
   ]
  },
  {
   "cell_type": "code",
   "execution_count": 10,
   "metadata": {},
   "outputs": [
    {
     "data": {
      "text/plain": [
       "count    70085.000000\n",
       "mean        15.889991\n",
       "std          8.284613\n",
       "min          1.000000\n",
       "25%         10.000000\n",
       "50%         14.000000\n",
       "75%         20.000000\n",
       "max        156.000000\n",
       "Name: length_tech_rep, dtype: float64"
      ]
     },
     "execution_count": 10,
     "metadata": {},
     "output_type": "execute_result"
    }
   ],
   "source": [
    "df[\"length_tech_rep\"] = df[\"tech_rep\"].str.len()\n",
    "\n",
    "df[\"length_tech_rep\"].describe()"
   ]
  },
  {
   "cell_type": "code",
   "execution_count": 11,
   "metadata": {},
   "outputs": [
    {
     "data": {
      "image/png": "[encoded data removed]",
      "text/plain": [
       "<Figure size 640x480 with 1 Axes>"
      ]
     },
     "metadata": {},
     "output_type": "display_data"
    }
   ],
   "source": [
    "import seaborn as sns\n",
    "sns.histplot(df[\"length_tech_rep\"])\n",
    "plt.show()"
   ]
  },
  {
   "cell_type": "markdown",
   "metadata": {},
   "source": [
    "# ENCODING"
   ]
  },
  {
   "cell_type": "code",
   "execution_count": 12,
   "metadata": {},
   "outputs": [
    {
     "name": "stdout",
     "output_type": "stream",
     "text": [
      "\n",
      "**********************\n",
      "[INFO] ENCODING DATA\n",
      "**********************\n",
      "\n",
      "\n",
      "**********************\n",
      "[INFO] ENCODING DATA\n",
      "**********************\n",
      "\n"
     ]
    }
   ],
   "source": [
    "images = located[\"tech_rep\"].to_numpy()\n",
    "labels = located[\"Phonological Cognate\"].to_numpy().astype(np.int64)\n",
    "words_to_translate = df_no_label[\"tech_rep\"]\n",
    "training_images = encoding(images)\n",
    "testing_images = encoding(words_to_translate)\n",
    "\n"
   ]
  },
  {
   "cell_type": "markdown",
   "metadata": {},
   "source": [
    "# Example of how they are Encoded"
   ]
  },
  {
   "cell_type": "code",
   "execution_count": 13,
   "metadata": {},
   "outputs": [
    {
     "ename": "IndexError",
     "evalue": "index 425 is out of bounds for axis 0 with size 425",
     "output_type": "error",
     "traceback": [
      "\u001b[0;31m---------------------------------------------------------------------------\u001b[0m",
      "\u001b[0;31mIndexError\u001b[0m                                Traceback (most recent call last)",
      "\u001b[0;32m<ipython-input-13-6e47a0e9cd83>\u001b[0m in \u001b[0;36m<module>\u001b[0;34m\u001b[0m\n\u001b[0;32m----> 1\u001b[0;31m \u001b[0mpairTrain\u001b[0m\u001b[0;34m,\u001b[0m \u001b[0mlabelTrain\u001b[0m \u001b[0;34m=\u001b[0m \u001b[0mmake_pairs\u001b[0m\u001b[0;34m(\u001b[0m\u001b[0mtraining_images\u001b[0m\u001b[0;34m,\u001b[0m\u001b[0mlabels\u001b[0m\u001b[0;34m)\u001b[0m\u001b[0;34m\u001b[0m\u001b[0;34m\u001b[0m\u001b[0m\n\u001b[0m\u001b[1;32m      2\u001b[0m \u001b[0mword_pairs\u001b[0m\u001b[0;34m,\u001b[0m \u001b[0mcognate\u001b[0m \u001b[0;34m=\u001b[0m \u001b[0mmake_pairs\u001b[0m\u001b[0;34m(\u001b[0m\u001b[0mimages\u001b[0m\u001b[0;34m,\u001b[0m \u001b[0mlabels\u001b[0m\u001b[0;34m)\u001b[0m\u001b[0;34m\u001b[0m\u001b[0;34m\u001b[0m\u001b[0m\n\u001b[1;32m      3\u001b[0m \u001b[0;34m\u001b[0m\u001b[0m\n\u001b[1;32m      4\u001b[0m \u001b[0mplt\u001b[0m\u001b[0;34m.\u001b[0m\u001b[0mfigure\u001b[0m\u001b[0;34m(\u001b[0m\u001b[0;34m)\u001b[0m\u001b[0;34m\u001b[0m\u001b[0;34m\u001b[0m\u001b[0m\n\u001b[1;32m      5\u001b[0m \u001b[0mplt\u001b[0m\u001b[0;34m.\u001b[0m\u001b[0mimshow\u001b[0m\u001b[0;34m(\u001b[0m\u001b[0mpairTrain\u001b[0m\u001b[0;34m[\u001b[0m\u001b[0;36m1\u001b[0m\u001b[0;34m,\u001b[0m\u001b[0;36m1\u001b[0m\u001b[0;34m]\u001b[0m\u001b[0;34m)\u001b[0m\u001b[0;34m\u001b[0m\u001b[0;34m\u001b[0m\u001b[0m\n",
      "\u001b[0;32m~/Desktop/CognatePredictor/python script/pairing.py\u001b[0m in \u001b[0;36mmake_pairs\u001b[0;34m(images, labels)\u001b[0m\n\u001b[1;32m     32\u001b[0m         \u001b[0;31m# to a label *not* equal to the current label\u001b[0m\u001b[0;34m\u001b[0m\u001b[0;34m\u001b[0m\u001b[0;34m\u001b[0m\u001b[0m\n\u001b[1;32m     33\u001b[0m         \u001b[0mnegIdx\u001b[0m \u001b[0;34m=\u001b[0m \u001b[0mnp\u001b[0m\u001b[0;34m.\u001b[0m\u001b[0mwhere\u001b[0m\u001b[0;34m(\u001b[0m\u001b[0mlabels\u001b[0m \u001b[0;34m!=\u001b[0m \u001b[0mlabel\u001b[0m\u001b[0;34m)\u001b[0m\u001b[0;34m[\u001b[0m\u001b[0;36m0\u001b[0m\u001b[0;34m]\u001b[0m\u001b[0;34m\u001b[0m\u001b[0;34m\u001b[0m\u001b[0m\n\u001b[0;32m---> 34\u001b[0;31m         \u001b[0mnegImage\u001b[0m \u001b[0;34m=\u001b[0m \u001b[0mimages\u001b[0m\u001b[0;34m[\u001b[0m\u001b[0mnp\u001b[0m\u001b[0;34m.\u001b[0m\u001b[0mrandom\u001b[0m\u001b[0;34m.\u001b[0m\u001b[0mchoice\u001b[0m\u001b[0;34m(\u001b[0m\u001b[0mnegIdx\u001b[0m\u001b[0;34m)\u001b[0m\u001b[0;34m]\u001b[0m\u001b[0;34m\u001b[0m\u001b[0;34m\u001b[0m\u001b[0m\n\u001b[0m\u001b[1;32m     35\u001b[0m         \u001b[0;31m# prepare a negative pair of images and update our lists\u001b[0m\u001b[0;34m\u001b[0m\u001b[0;34m\u001b[0m\u001b[0;34m\u001b[0m\u001b[0m\n\u001b[1;32m     36\u001b[0m         \u001b[0mpairImages\u001b[0m\u001b[0;34m.\u001b[0m\u001b[0mappend\u001b[0m\u001b[0;34m(\u001b[0m\u001b[0;34m[\u001b[0m\u001b[0mcurrentImage\u001b[0m\u001b[0;34m,\u001b[0m \u001b[0mnegImage\u001b[0m\u001b[0;34m]\u001b[0m\u001b[0;34m)\u001b[0m\u001b[0;34m\u001b[0m\u001b[0;34m\u001b[0m\u001b[0m\n",
      "\u001b[0;31mIndexError\u001b[0m: index 425 is out of bounds for axis 0 with size 425"
     ]
    }
   ],
   "source": [
    "pairTrain, labelTrain = make_pairs(training_images,labels)\n",
    "word_pairs, cognate = make_pairs(images, labels)\n",
    "\n",
    "plt.figure()\n",
    "plt.imshow(pairTrain[1,1])\n",
    "\n",
    "print(\"Associated Word = \",word_pairs[2,1] )\n",
    "plt.show()"
   ]
  },
  {
   "cell_type": "code",
   "execution_count": null,
   "metadata": {},
   "outputs": [],
   "source": [
    "def build_siamese_model(hp):\n",
    "    # specify the inputs for the feature extractor network\n",
    "    inputs = Input(IMG_SHAPE)\n",
    "    # define the first set of CONV => RELU => POOL => DROPOUT layers\n",
    "    x = Conv2D(hp.Int(\n",
    "        'units 1',\n",
    "        min_value=32,\n",
    "        max_value=512,\n",
    "        step=16,\n",
    "        default=128), (2, 2), padding=\"same\", activation=\"relu\")(inputs)\n",
    "    x = MaxPooling2D(pool_size=(2, 2))(x)\n",
    "    x = Dropout(hp.Float(\n",
    "                'dropout_1',\n",
    "                min_value=0.0,\n",
    "                max_value=0.5,\n",
    "                default=0.25,\n",
    "                step=0.05,\n",
    "            ))(x)\n",
    "    # second set of CONV => RELU => POOL => DROPOUT layers\n",
    "    x = Conv2D(hp.Int(\n",
    "        'units 2',\n",
    "        min_value=32,\n",
    "        max_value=512,\n",
    "        step=32,\n",
    "        default=128), (2, 2), padding=\"same\", activation=\"relu\")(x)\n",
    "    x = MaxPooling2D(pool_size=2)(x)\n",
    "    x = Dropout(hp.Float(\n",
    "                'dropout_2',\n",
    "                min_value=0.0,\n",
    "                max_value=0.5,\n",
    "                default=0.25,\n",
    "                step=0.05,\n",
    "            ))(x)\n",
    "    # prepare the final outputs\n",
    "    pooledOutput = GlobalAveragePooling2D()(x)\n",
    "    outputs = Dense(hp.Float(\n",
    "                'Embeding Dim',\n",
    "                min_value=12,\n",
    "                max_value=60,\n",
    "                default=48,\n",
    "                step=12,\n",
    "            ))(pooledOutput)\n",
    "    # build the model\n",
    "    featureExtractor = Model(inputs, outputs)\n",
    "    \n",
    "    imgA = Input(shape = IMG_SHAPE)\n",
    "    imgB = Input(shape = IMG_SHAPE)\n",
    "    \n",
    "    #print(featureExtractor)\n",
    "    \n",
    "    featsA = featureExtractor(imgA)\n",
    "    featsB = featureExtractor(imgB)\n",
    "    \n",
    "    distance = Lambda(euclidean_distance)([featsA, featsB])\n",
    "    outputs = Dense(1, activation= \"sigmoid\")(distance)\n",
    "    model1 = Model(inputs=[imgA, imgB], outputs=outputs)\n",
    "    #print(model1.summary())\n",
    "    opt = tf.keras.optimizers.Adam(learning_rate=hp.Float(\n",
    "                    'learning_rate',\n",
    "                    min_value=1e-4,\n",
    "                    max_value=1e-2,\n",
    "                    sampling='LOG',\n",
    "                    default=1e-3\n",
    "                ))\n",
    "    print(\"[INFO] compiling model...\")\n",
    "    model1.compile(loss=\"binary_crossentropy\", optimizer= opt,\n",
    "\tmetrics=[\"accuracy\"])\n",
    "    return model1\n",
    "    # return the model to the calling function\n",
    "   "
   ]
  },
  {
   "cell_type": "code",
   "execution_count": null,
   "metadata": {},
   "outputs": [],
   "source": [
    "callbacks = myCallback()"
   ]
  },
  {
   "cell_type": "code",
   "execution_count": null,
   "metadata": {},
   "outputs": [
    {
     "name": "stdout",
     "output_type": "stream",
     "text": [
      "INFO:tensorflow:Reloading Oracle from existing project 1638504505/untitled_project/oracle.json\n",
      "[INFO] compiling model...\n",
      "INFO:tensorflow:Reloading Tuner from 1638504505/untitled_project/tuner0.json\n",
      "INFO:tensorflow:Oracle triggered exit\n"
     ]
    }
   ],
   "source": [
    "\n",
    "#hyperparameter tuning\n",
    "tuner = RandomSearch(build_siamese_model,\n",
    "                    objective = 'val_accuracy',\n",
    "                    max_trials = 10,\n",
    "                    executions_per_trial = 1,\n",
    "                    directory = LOG_DIR)\n",
    "\n",
    "tuner.search(x = [pairTrain[:, 0], pairTrain[:, 1]],\n",
    "             y = labelTrain[:],\n",
    "             epochs = 50,\n",
    "             batch_size = 64,\n",
    "             validation_split=(0.3) \n",
    "             \n",
    "            )\n",
    "            \n",
    "\n"
   ]
  },
  {
   "cell_type": "markdown",
   "metadata": {},
   "source": [
    "# Best Model"
   ]
  },
  {
   "cell_type": "code",
   "execution_count": null,
   "metadata": {},
   "outputs": [
    {
     "name": "stdout",
     "output_type": "stream",
     "text": [
      "{'units 1': 128, 'dropout_1': 0.05, 'units 2': 352, 'dropout_2': 0.05, 'Embeding Dim': 48.0, 'learning_rate': 0.007644732340148274}\n"
     ]
    },
    {
     "data": {
      "text/plain": [
       "128"
      ]
     },
     "execution_count": 41,
     "metadata": {},
     "output_type": "execute_result"
    }
   ],
   "source": [
    "print(tuner.get_best_hyperparameters()[0].values)\n",
    "#print(tuner.results_summary())\n",
    "#print(tuner.get_best_models()[0].summary())\n",
    "tuned_param = tuner.get_best_hyperparameters()[0].values\n",
    "\n",
    "tuned_param['units 1']"
   ]
  },
  {
   "cell_type": "markdown",
   "metadata": {},
   "source": [
    "# Optimized Model"
   ]
  },
  {
   "cell_type": "code",
   "execution_count": null,
   "metadata": {},
   "outputs": [],
   "source": [
    "def build_siamese_model():\n",
    "    # specify the inputs for the feature extractor network\n",
    "    inputs = Input(IMG_SHAPE)\n",
    "    # define the first set of CONV => RELU => POOL => DROPOUT layers\n",
    "    x = Conv2D(tuned_param['units 1'], (2, 2), padding=\"same\", activation=\"relu\")(inputs)\n",
    "    x = MaxPooling2D(pool_size=(2, 2))(x)\n",
    "    x = Dropout(tuned_param['dropout_1'])(x)\n",
    "    # second set of CONV => RELU => POOL => DROPOUT layers\n",
    "    x = Conv2D(tuned_param['units 2'], (2, 2), padding=\"same\", activation=\"relu\")(x)\n",
    "    x = MaxPooling2D(pool_size=2)(x)\n",
    "    x = Dropout(tuned_param['dropout_2'])(x)\n",
    "    # prepare the final outputs\n",
    "    pooledOutput = GlobalAveragePooling2D()(x)\n",
    "    outputs = Dense(tuned_param['Embeding Dim'])(pooledOutput)\n",
    "    # build the model\n",
    "    featureExtractor = Model(inputs, outputs)\n",
    "    \n",
    "    imgA = Input(shape = IMG_SHAPE)\n",
    "    imgB = Input(shape = IMG_SHAPE)\n",
    "    \n",
    "    #print(featureExtractor)\n",
    "    \n",
    "    featsA = featureExtractor(imgA)\n",
    "    featsB = featureExtractor(imgB)\n",
    "    \n",
    "    distance = Lambda(euclidean_distance)([featsA, featsB])\n",
    "    outputs = Dense(1, activation= \"sigmoid\")(distance)\n",
    "    model1 = Model(inputs=[imgA, imgB], outputs=outputs)\n",
    "    #print(model1.summary())\n",
    "    opt = tf.keras.optimizers.Adam(learning_rate=tuned_param['learning_rate'])\n",
    "    print(\"[INFO] compiling model...\")\n",
    "    model1.compile(loss=\"binary_crossentropy\", optimizer= opt,\n",
    "\tmetrics=[\"accuracy\"])\n",
    "    return model1"
   ]
  },
  {
   "cell_type": "code",
   "execution_count": null,
   "metadata": {},
   "outputs": [
    {
     "name": "stdout",
     "output_type": "stream",
     "text": [
      "[INFO] compiling model...\n",
      "Model: \"model_3\"\n",
      "__________________________________________________________________________________________________\n",
      "Layer (type)                    Output Shape         Param #     Connected to                     \n",
      "==================================================================================================\n",
      "input_5 (InputLayer)            [(None, 25, 25, 1)]  0                                            \n",
      "__________________________________________________________________________________________________\n",
      "input_6 (InputLayer)            [(None, 25, 25, 1)]  0                                            \n",
      "__________________________________________________________________________________________________\n",
      "model_2 (Functional)            (None, 48)           198160      input_5[0][0]                    \n",
      "                                                                 input_6[0][0]                    \n",
      "__________________________________________________________________________________________________\n",
      "lambda_1 (Lambda)               (None, 1)            0           model_2[0][0]                    \n",
      "                                                                 model_2[1][0]                    \n",
      "__________________________________________________________________________________________________\n",
      "dense_3 (Dense)                 (None, 1)            2           lambda_1[0][0]                   \n",
      "==================================================================================================\n",
      "Total params: 198,162\n",
      "Trainable params: 198,162\n",
      "Non-trainable params: 0\n",
      "__________________________________________________________________________________________________\n"
     ]
    }
   ],
   "source": [
    "callbacks = myCallback()\n",
    "model = build_siamese_model()\n",
    "model.summary()"
   ]
  },
  {
   "cell_type": "markdown",
   "metadata": {},
   "source": [
    "# Prediction & Fitting\n"
   ]
  },
  {
   "cell_type": "code",
   "execution_count": null,
   "metadata": {},
   "outputs": [
    {
     "name": "stdout",
     "output_type": "stream",
     "text": [
      "Epoch 1/100\n",
      "11/11 [==============================] - 4s 319ms/step - loss: 0.6929 - accuracy: 0.5015 - val_loss: 0.6928 - val_accuracy: 0.5118\n",
      "Epoch 2/100\n",
      "11/11 [==============================] - 4s 314ms/step - loss: 0.6892 - accuracy: 0.5456 - val_loss: 0.6984 - val_accuracy: 0.5176\n",
      "Epoch 3/100\n",
      "11/11 [==============================] - 3s 233ms/step - loss: 0.6863 - accuracy: 0.5618 - val_loss: 0.6882 - val_accuracy: 0.5706\n",
      "Epoch 4/100\n",
      "11/11 [==============================] - 3s 237ms/step - loss: 0.6800 - accuracy: 0.6221 - val_loss: 0.6821 - val_accuracy: 0.5706\n",
      "Epoch 5/100\n",
      "11/11 [==============================] - 3s 229ms/step - loss: 0.6744 - accuracy: 0.5794 - val_loss: 0.6610 - val_accuracy: 0.5647\n",
      "Epoch 6/100\n",
      "11/11 [==============================] - 3s 234ms/step - loss: 0.6579 - accuracy: 0.6750 - val_loss: 0.6699 - val_accuracy: 0.5824\n",
      "Epoch 7/100\n",
      "11/11 [==============================] - 3s 235ms/step - loss: 0.6424 - accuracy: 0.6265 - val_loss: 0.6477 - val_accuracy: 0.6000\n",
      "Epoch 8/100\n",
      "11/11 [==============================] - 3s 233ms/step - loss: 0.6363 - accuracy: 0.6515 - val_loss: 0.6614 - val_accuracy: 0.6000\n",
      "Epoch 9/100\n",
      "11/11 [==============================] - 3s 231ms/step - loss: 0.6318 - accuracy: 0.6809 - val_loss: 0.6477 - val_accuracy: 0.6412\n",
      "Epoch 10/100\n",
      "11/11 [==============================] - 3s 235ms/step - loss: 0.6248 - accuracy: 0.6765 - val_loss: 0.6698 - val_accuracy: 0.5588\n",
      "Epoch 11/100\n",
      "11/11 [==============================] - 3s 238ms/step - loss: 0.5978 - accuracy: 0.7059 - val_loss: 0.6190 - val_accuracy: 0.6765\n",
      "Epoch 12/100\n",
      "11/11 [==============================] - 3s 245ms/step - loss: 0.5921 - accuracy: 0.6912 - val_loss: 0.6169 - val_accuracy: 0.6706\n",
      "Epoch 13/100\n",
      "11/11 [==============================] - 3s 233ms/step - loss: 0.5879 - accuracy: 0.7044 - val_loss: 0.6122 - val_accuracy: 0.6588\n",
      "Epoch 14/100\n",
      "11/11 [==============================] - 3s 306ms/step - loss: 0.5511 - accuracy: 0.7353 - val_loss: 0.6115 - val_accuracy: 0.6765\n",
      "Epoch 15/100\n",
      "11/11 [==============================] - 4s 371ms/step - loss: 0.5179 - accuracy: 0.7735 - val_loss: 0.6237 - val_accuracy: 0.6471\n",
      "Epoch 16/100\n",
      "11/11 [==============================] - 3s 243ms/step - loss: 0.5030 - accuracy: 0.7912 - val_loss: 0.6062 - val_accuracy: 0.6706\n",
      "Epoch 17/100\n",
      "11/11 [==============================] - 3s 242ms/step - loss: 0.4974 - accuracy: 0.7647 - val_loss: 0.5937 - val_accuracy: 0.6882\n",
      "Epoch 18/100\n",
      "11/11 [==============================] - 3s 274ms/step - loss: 0.4849 - accuracy: 0.8000 - val_loss: 0.5987 - val_accuracy: 0.6882\n",
      "Epoch 19/100\n",
      "11/11 [==============================] - 3s 244ms/step - loss: 0.4586 - accuracy: 0.8088 - val_loss: 0.5837 - val_accuracy: 0.7118\n",
      "Epoch 20/100\n",
      "11/11 [==============================] - 3s 278ms/step - loss: 0.4588 - accuracy: 0.8132 - val_loss: 0.6014 - val_accuracy: 0.6765\n",
      "Epoch 21/100\n",
      "11/11 [==============================] - 3s 260ms/step - loss: 0.4328 - accuracy: 0.8250 - val_loss: 0.6176 - val_accuracy: 0.6765\n",
      "Epoch 22/100\n",
      "11/11 [==============================] - 3s 304ms/step - loss: 0.4320 - accuracy: 0.8235 - val_loss: 0.5705 - val_accuracy: 0.6941\n",
      "Epoch 23/100\n",
      "11/11 [==============================] - 3s 239ms/step - loss: 0.4147 - accuracy: 0.8382 - val_loss: 0.5970 - val_accuracy: 0.6882\n",
      "Epoch 24/100\n",
      "11/11 [==============================] - 3s 241ms/step - loss: 0.3905 - accuracy: 0.8574 - val_loss: 0.5917 - val_accuracy: 0.6882\n",
      "Epoch 25/100\n",
      "11/11 [==============================] - 3s 248ms/step - loss: 0.3856 - accuracy: 0.8632 - val_loss: 0.6158 - val_accuracy: 0.6765\n",
      "Epoch 26/100\n",
      "11/11 [==============================] - 3s 301ms/step - loss: 0.3742 - accuracy: 0.8691 - val_loss: 0.5837 - val_accuracy: 0.6882\n",
      "Epoch 27/100\n",
      "11/11 [==============================] - 3s 244ms/step - loss: 0.3798 - accuracy: 0.8559 - val_loss: 0.6065 - val_accuracy: 0.7294\n",
      "Epoch 28/100\n",
      "11/11 [==============================] - 3s 262ms/step - loss: 0.3947 - accuracy: 0.8382 - val_loss: 0.7233 - val_accuracy: 0.6471\n",
      "Epoch 29/100\n",
      "11/11 [==============================] - 4s 340ms/step - loss: 0.3967 - accuracy: 0.8368 - val_loss: 0.6365 - val_accuracy: 0.6824\n",
      "Epoch 30/100\n",
      "11/11 [==============================] - 3s 255ms/step - loss: 0.3556 - accuracy: 0.8632 - val_loss: 0.5923 - val_accuracy: 0.6765\n",
      "Epoch 31/100\n",
      "11/11 [==============================] - 3s 255ms/step - loss: 0.3550 - accuracy: 0.8735 - val_loss: 0.6218 - val_accuracy: 0.6647\n",
      "Epoch 32/100\n",
      "11/11 [==============================] - 3s 245ms/step - loss: 0.3212 - accuracy: 0.8868 - val_loss: 0.6004 - val_accuracy: 0.6824\n",
      "Epoch 33/100\n",
      "11/11 [==============================] - 3s 239ms/step - loss: 0.3274 - accuracy: 0.8794 - val_loss: 0.7312 - val_accuracy: 0.6765\n",
      "Epoch 34/100\n",
      "11/11 [==============================] - 3s 246ms/step - loss: 0.3423 - accuracy: 0.8750 - val_loss: 0.5976 - val_accuracy: 0.7000\n",
      "Epoch 35/100\n",
      "11/11 [==============================] - 3s 244ms/step - loss: 0.3477 - accuracy: 0.8618 - val_loss: 0.6041 - val_accuracy: 0.6706\n",
      "Epoch 36/100\n",
      "11/11 [==============================] - 3s 251ms/step - loss: 0.3330 - accuracy: 0.8632 - val_loss: 0.6317 - val_accuracy: 0.6882\n",
      "Epoch 37/100\n",
      "11/11 [==============================] - 3s 244ms/step - loss: 0.3164 - accuracy: 0.8809 - val_loss: 0.6818 - val_accuracy: 0.6941\n",
      "Epoch 38/100\n",
      "11/11 [==============================] - 3s 246ms/step - loss: 0.3201 - accuracy: 0.8794 - val_loss: 0.6106 - val_accuracy: 0.6706\n",
      "Epoch 39/100\n",
      "11/11 [==============================] - 3s 238ms/step - loss: 0.2977 - accuracy: 0.8868 - val_loss: 0.6576 - val_accuracy: 0.7059\n",
      "Epoch 40/100\n",
      "11/11 [==============================] - 3s 242ms/step - loss: 0.2686 - accuracy: 0.9132 - val_loss: 0.7244 - val_accuracy: 0.7059\n",
      "Epoch 41/100\n",
      "11/11 [==============================] - 3s 302ms/step - loss: 0.2647 - accuracy: 0.9088 - val_loss: 0.7070 - val_accuracy: 0.7000\n",
      "Epoch 42/100\n",
      "11/11 [==============================] - 3s 302ms/step - loss: 0.2771 - accuracy: 0.9059 - val_loss: 0.6732 - val_accuracy: 0.6824\n",
      "Epoch 43/100\n",
      "11/11 [==============================] - 3s 245ms/step - loss: 0.2651 - accuracy: 0.9074 - val_loss: 0.7025 - val_accuracy: 0.6706\n",
      "Epoch 44/100\n",
      "11/11 [==============================] - 3s 257ms/step - loss: 0.2775 - accuracy: 0.9059 - val_loss: 0.6601 - val_accuracy: 0.6765\n",
      "Epoch 45/100\n",
      "11/11 [==============================] - 3s 245ms/step - loss: 0.2669 - accuracy: 0.9118 - val_loss: 0.7353 - val_accuracy: 0.7000\n",
      "Epoch 46/100\n",
      "11/11 [==============================] - 3s 248ms/step - loss: 0.2673 - accuracy: 0.9000 - val_loss: 0.6789 - val_accuracy: 0.7176\n",
      "Epoch 47/100\n",
      "11/11 [==============================] - 3s 244ms/step - loss: 0.2402 - accuracy: 0.9235 - val_loss: 0.7256 - val_accuracy: 0.7059\n",
      "Epoch 48/100\n",
      "11/11 [==============================] - 3s 241ms/step - loss: 0.2443 - accuracy: 0.9162 - val_loss: 0.6595 - val_accuracy: 0.6647\n",
      "Epoch 49/100\n",
      "11/11 [==============================] - 3s 244ms/step - loss: 0.2533 - accuracy: 0.9132 - val_loss: 0.7023 - val_accuracy: 0.7059\n",
      "Epoch 50/100\n",
      "11/11 [==============================] - 3s 243ms/step - loss: 0.2436 - accuracy: 0.9059 - val_loss: 0.6913 - val_accuracy: 0.6824\n",
      "Epoch 51/100\n",
      "11/11 [==============================] - 3s 265ms/step - loss: 0.2462 - accuracy: 0.9118 - val_loss: 0.7123 - val_accuracy: 0.6941\n",
      "Epoch 52/100\n",
      "11/11 [==============================] - 3s 243ms/step - loss: 0.2297 - accuracy: 0.9147 - val_loss: 0.7719 - val_accuracy: 0.7000\n",
      "Epoch 53/100\n",
      "11/11 [==============================] - 3s 254ms/step - loss: 0.2375 - accuracy: 0.9221 - val_loss: 0.6697 - val_accuracy: 0.6882\n",
      "Epoch 54/100\n",
      "11/11 [==============================] - 3s 243ms/step - loss: 0.2386 - accuracy: 0.9118 - val_loss: 0.6836 - val_accuracy: 0.7118\n",
      "Epoch 55/100\n",
      "11/11 [==============================] - 3s 241ms/step - loss: 0.2226 - accuracy: 0.9235 - val_loss: 0.6569 - val_accuracy: 0.7118\n",
      "Epoch 56/100\n",
      "11/11 [==============================] - 3s 245ms/step - loss: 0.2257 - accuracy: 0.9176 - val_loss: 0.7353 - val_accuracy: 0.7000\n",
      "Epoch 57/100\n",
      "11/11 [==============================] - 3s 247ms/step - loss: 0.2022 - accuracy: 0.9412 - val_loss: 0.7138 - val_accuracy: 0.7059\n",
      "Epoch 58/100\n",
      "11/11 [==============================] - 3s 274ms/step - loss: 0.2063 - accuracy: 0.9324 - val_loss: 0.8564 - val_accuracy: 0.7118\n",
      "Epoch 59/100\n",
      "11/11 [==============================] - 3s 241ms/step - loss: 0.2360 - accuracy: 0.9118 - val_loss: 0.6893 - val_accuracy: 0.6941\n",
      "Epoch 60/100\n",
      "11/11 [==============================] - 3s 261ms/step - loss: 0.2143 - accuracy: 0.9235 - val_loss: 0.7027 - val_accuracy: 0.7059\n",
      "Epoch 61/100\n",
      "11/11 [==============================] - 3s 252ms/step - loss: 0.1956 - accuracy: 0.9382 - val_loss: 0.7578 - val_accuracy: 0.7118\n",
      "Epoch 62/100\n",
      "11/11 [==============================] - 3s 245ms/step - loss: 0.1963 - accuracy: 0.9397 - val_loss: 0.7225 - val_accuracy: 0.7059\n",
      "Epoch 63/100\n",
      "11/11 [==============================] - 3s 249ms/step - loss: 0.1971 - accuracy: 0.9279 - val_loss: 0.7947 - val_accuracy: 0.6941\n",
      "Epoch 64/100\n",
      "11/11 [==============================] - 3s 249ms/step - loss: 0.2025 - accuracy: 0.9279 - val_loss: 0.7588 - val_accuracy: 0.6882\n",
      "Epoch 65/100\n",
      "11/11 [==============================] - 3s 252ms/step - loss: 0.1866 - accuracy: 0.9441 - val_loss: 0.7301 - val_accuracy: 0.7176\n",
      "Epoch 66/100\n",
      "11/11 [==============================] - 3s 273ms/step - loss: 0.1746 - accuracy: 0.9471 - val_loss: 0.7146 - val_accuracy: 0.6765\n",
      "Epoch 67/100\n",
      "11/11 [==============================] - 3s 248ms/step - loss: 0.1869 - accuracy: 0.9353 - val_loss: 0.7968 - val_accuracy: 0.7000\n",
      "Epoch 68/100\n",
      "11/11 [==============================] - 3s 262ms/step - loss: 0.2024 - accuracy: 0.9353 - val_loss: 0.7431 - val_accuracy: 0.7000\n",
      "Epoch 69/100\n",
      "11/11 [==============================] - 3s 286ms/step - loss: 0.1840 - accuracy: 0.9412 - val_loss: 0.7879 - val_accuracy: 0.7000\n",
      "Epoch 70/100\n",
      "11/11 [==============================] - 3s 250ms/step - loss: 0.1695 - accuracy: 0.9471 - val_loss: 0.7788 - val_accuracy: 0.6706\n",
      "Epoch 71/100\n",
      "11/11 [==============================] - 3s 250ms/step - loss: 0.1724 - accuracy: 0.9382 - val_loss: 0.8084 - val_accuracy: 0.7059\n",
      "Epoch 72/100\n",
      "11/11 [==============================] - 3s 250ms/step - loss: 0.1722 - accuracy: 0.9338 - val_loss: 0.7671 - val_accuracy: 0.7235\n",
      "Epoch 73/100\n",
      "11/11 [==============================] - 3s 254ms/step - loss: 0.1679 - accuracy: 0.9426 - val_loss: 0.7572 - val_accuracy: 0.7118\n",
      "Epoch 74/100\n",
      "11/11 [==============================] - 3s 273ms/step - loss: 0.1707 - accuracy: 0.9500 - val_loss: 0.7709 - val_accuracy: 0.7176\n",
      "Epoch 75/100\n",
      "11/11 [==============================] - 3s 252ms/step - loss: 0.1500 - accuracy: 0.9662 - val_loss: 0.7854 - val_accuracy: 0.6941\n",
      "Epoch 76/100\n",
      "11/11 [==============================] - 3s 250ms/step - loss: 0.1489 - accuracy: 0.9515 - val_loss: 0.7989 - val_accuracy: 0.7118\n",
      "Epoch 77/100\n",
      "11/11 [==============================] - 3s 245ms/step - loss: 0.1838 - accuracy: 0.9353 - val_loss: 0.9382 - val_accuracy: 0.7000\n",
      "Epoch 78/100\n",
      "11/11 [==============================] - 3s 253ms/step - loss: 0.2056 - accuracy: 0.9221 - val_loss: 0.7873 - val_accuracy: 0.6941\n",
      "Epoch 79/100\n",
      "11/11 [==============================] - 3s 248ms/step - loss: 0.1630 - accuracy: 0.9426 - val_loss: 0.7718 - val_accuracy: 0.7235\n",
      "Epoch 80/100\n",
      "11/11 [==============================] - 3s 253ms/step - loss: 0.1588 - accuracy: 0.9441 - val_loss: 0.7955 - val_accuracy: 0.7353\n",
      "Epoch 81/100\n",
      "11/11 [==============================] - 3s 272ms/step - loss: 0.1614 - accuracy: 0.9485 - val_loss: 0.7644 - val_accuracy: 0.7118\n",
      "Epoch 82/100\n",
      "11/11 [==============================] - 3s 259ms/step - loss: 0.1554 - accuracy: 0.9574 - val_loss: 0.8344 - val_accuracy: 0.7000\n",
      "Epoch 83/100\n",
      "11/11 [==============================] - 3s 247ms/step - loss: 0.1420 - accuracy: 0.9574 - val_loss: 0.8183 - val_accuracy: 0.7059\n",
      "Epoch 84/100\n",
      "11/11 [==============================] - 3s 252ms/step - loss: 0.1471 - accuracy: 0.9603 - val_loss: 0.8363 - val_accuracy: 0.6941\n",
      "Epoch 85/100\n",
      "11/11 [==============================] - 3s 268ms/step - loss: 0.1455 - accuracy: 0.9529 - val_loss: 0.8088 - val_accuracy: 0.7412\n",
      "\n",
      "[INFO] Reached target accuracy so canceling training\n",
      "[INFO] saving siamese model...\n",
      "INFO:tensorflow:Assets written to: output/siamese_model/assets\n"
     ]
    }
   ],
   "source": [
    "\n",
    "history = model.fit(\n",
    "\t[pairTrain[:, 0], pairTrain[:, 1]], labelTrain[:],\n",
    "\tvalidation_split=(0.2),\n",
    "\tbatch_size= BATCH_SIZE, \n",
    "\tepochs= 100,\n",
    "    callbacks = callbacks)\n",
    "    # serialize the model to disk<br>\n",
    "print(\"[INFO] saving siamese model...\")\n",
    "model.save(MODEL_PATH)\n",
    "# plot the training history<br>\n",
    "\n"
   ]
  },
  {
   "cell_type": "code",
   "execution_count": null,
   "metadata": {},
   "outputs": [
    {
     "name": "stdout",
     "output_type": "stream",
     "text": [
      "[INFO] plotting training history...\n"
     ]
    },
    {
     "data": {
      "image/png": "[encoded data removed]",
      "text/plain": [
       "<Figure size 640x480 with 1 Axes>"
      ]
     },
     "metadata": {},
     "output_type": "display_data"
    }
   ],
   "source": [
    "print(\"[INFO] plotting training history...\")\n",
    "plot_training(history, PLOT_PATH)"
   ]
  },
  {
   "cell_type": "code",
   "execution_count": null,
   "metadata": {},
   "outputs": [],
   "source": [
    "\n",
    "\n",
    "\n",
    "test_labels = associated_labels[0:1]\n",
    "test_pred_images = encoding(test_prediction_words)\n",
    "\n",
    "plt.figure()\n",
    "\n",
    "plt.imshow(test_pred_images[0])\n",
    "\n",
    "model = load_model(MODEL_PATH)\n",
    "\n",
    "test_prediction_words = words_to_translate\n",
    "test_pred_images = encoding(test_prediction_words)\n",
    "test_prediction_words_endcode = np.expand_dims(encoding(test_prediction_words),axis = -1)\n",
    "predict_train = np.expand_dims(test,axis = -1)\n",
    "\n"
   ]
  },
  {
   "cell_type": "code",
   "execution_count": null,
   "metadata": {},
   "outputs": [
    {
     "data": {
      "text/plain": [
       "70866"
      ]
     },
     "execution_count": 43,
     "metadata": {},
     "output_type": "execute_result"
    }
   ],
   "source": [
    "len(test_prediction_words_endcode)"
   ]
  },
  {
   "cell_type": "code",
   "execution_count": null,
   "metadata": {},
   "outputs": [],
   "source": []
  },
  {
   "cell_type": "code",
   "execution_count": null,
   "metadata": {},
   "outputs": [],
   "source": [
    "pairs = []\n",
    "for i in range(len(test_prediction_words_endcode)):\n",
    "    pairs.append([test_prediction_words_endcode[0],test_prediction_words_endcode[i]])\n",
    "    \n",
    "\n",
    "pairs = np.array(pairs)\n"
   ]
  },
  {
   "cell_type": "code",
   "execution_count": null,
   "metadata": {},
   "outputs": [
    {
     "data": {
      "text/plain": [
       "(70866, 2, 25, 25, 1)"
      ]
     },
     "execution_count": 72,
     "metadata": {},
     "output_type": "execute_result"
    }
   ],
   "source": [
    "pairs.shape"
   ]
  },
  {
   "cell_type": "code",
   "execution_count": null,
   "metadata": {},
   "outputs": [],
   "source": [
    "prediction = model.predict([pairs[:, 0], pairs[:, 1]])\n"
   ]
  },
  {
   "cell_type": "code",
   "execution_count": null,
   "metadata": {},
   "outputs": [],
   "source": [
    "cognate_index = []\n",
    "for i in range(len(prediction)):\n",
    "    if(prediction[i] > 0.82):\n",
    "        cognate_index.append(i)"
   ]
  },
  {
   "cell_type": "code",
   "execution_count": null,
   "metadata": {},
   "outputs": [
    {
     "data": {
      "text/plain": [
       "'cica-lo+huáa-le çàca nócha'"
      ]
     },
     "execution_count": 60,
     "metadata": {},
     "output_type": "execute_result"
    }
   ],
   "source": [
    "words_to_translate[np.argmax(prediction)]"
   ]
  },
  {
   "cell_type": "code",
   "execution_count": null,
   "metadata": {},
   "outputs": [
    {
     "data": {
      "text/plain": [
       "array([0.00251958], dtype=float32)"
      ]
     },
     "execution_count": 62,
     "metadata": {},
     "output_type": "execute_result"
    }
   ],
   "source": [
    "min(prediction)"
   ]
  },
  {
   "cell_type": "code",
   "execution_count": null,
   "metadata": {},
   "outputs": [
    {
     "data": {
      "text/plain": [
       "'hue+róxo quijxi'"
      ]
     },
     "execution_count": 64,
     "metadata": {},
     "output_type": "execute_result"
    }
   ],
   "source": [
    "words_to_translate[0]"
   ]
  },
  {
   "cell_type": "code",
   "execution_count": null,
   "metadata": {},
   "outputs": [
    {
     "data": {
      "text/plain": [
       "'hue+róxo quijxi'"
      ]
     },
     "execution_count": 65,
     "metadata": {},
     "output_type": "execute_result"
    }
   ],
   "source": [
    "words_to_translate[np.argmax(prediction)]"
   ]
  },
  {
   "cell_type": "code",
   "execution_count": null,
   "metadata": {},
   "outputs": [
    {
     "data": {
      "text/plain": [
       "(15, 25, 25, 1)"
      ]
     },
     "execution_count": 71,
     "metadata": {},
     "output_type": "execute_result"
    }
   ],
   "source": [
    "test1 = encoding(words_to_translate[0])\n",
    "test2 = encoding(words_to_translate[np.argmax(prediction)])\n",
    "\n",
    "np.expand_dims(test1,axis = -1).shape"
   ]
  },
  {
   "cell_type": "markdown",
   "metadata": {},
   "source": [
    "# Work with LingPy"
   ]
  },
  {
   "cell_type": "code",
   "execution_count": null,
   "metadata": {},
   "outputs": [],
   "source": [
    "from lingpy import *"
   ]
  },
  {
   "cell_type": "code",
   "execution_count": null,
   "metadata": {},
   "outputs": [],
   "source": [
    "df_source_and_words = df[[\"tech_rep\",\"source\"]].dropna()"
   ]
  },
  {
   "cell_type": "code",
   "execution_count": null,
   "metadata": {},
   "outputs": [],
   "source": [
    "def meaningful(words:list):\n",
    "    print(\"**********************\")\n",
    "    print(\"RETURNING MEANINGFUL CHARACTERS\")\n",
    "    print(\"**********************\")\n",
    "    print()\n",
    "    word_translated = []\n",
    "    for word in words:\n",
    "        if(type(word) != float):\n",
    "            chars = list(word)\n",
    "            # print(chars)\n",
    "            k = 0\n",
    "            phenomes_endcode = []\n",
    "            for char in chars:\n",
    "                if(char in symbols):\n",
    "                #print(encoding_dict[char])\n",
    "                    phenomes_endcode.append(char)\n",
    "            word_translated.append(\"\".join(phenomes_endcode))\n",
    "    return word_translated"
   ]
  },
  {
   "cell_type": "code",
   "execution_count": null,
   "metadata": {},
   "outputs": [
    {
     "name": "stdout",
     "output_type": "stream",
     "text": [
      "**********************\n",
      "RETURNING MEANINGFUL CHARACTERS\n",
      "**********************\n",
      "\n"
     ]
    }
   ],
   "source": [
    "\n",
    "\n",
    "df_source_and_words[\"tech_rep\"] = meaningful(df_source_and_words[\"tech_rep\"].tolist())\n"
   ]
  },
  {
   "cell_type": "code",
   "execution_count": null,
   "metadata": {},
   "outputs": [
    {
     "data": {
      "text/html": [
       "<div>\n",
       "<style scoped>\n",
       "    .dataframe tbody tr th:only-of-type {\n",
       "        vertical-align: middle;\n",
       "    }\n",
       "\n",
       "    .dataframe tbody tr th {\n",
       "        vertical-align: top;\n",
       "    }\n",
       "\n",
       "    .dataframe thead th {\n",
       "        text-align: right;\n",
       "    }\n",
       "</style>\n",
       "<table border=\"1\" class=\"dataframe\">\n",
       "  <thead>\n",
       "    <tr style=\"text-align: right;\">\n",
       "      <th></th>\n",
       "      <th>tech_rep</th>\n",
       "    </tr>\n",
       "    <tr>\n",
       "      <th>source</th>\n",
       "      <th></th>\n",
       "    </tr>\n",
       "  </thead>\n",
       "  <tbody>\n",
       "    <tr>\n",
       "      <th>Cordova</th>\n",
       "      <td>66202</td>\n",
       "    </tr>\n",
       "    <tr>\n",
       "      <th>Diidxazá</th>\n",
       "      <td>1059</td>\n",
       "    </tr>\n",
       "    <tr>\n",
       "      <th>San Juan Mixtepec Zapotec</th>\n",
       "      <td>1804</td>\n",
       "    </tr>\n",
       "    <tr>\n",
       "      <th>Zenzontepec Chatino</th>\n",
       "      <td>1020</td>\n",
       "    </tr>\n",
       "  </tbody>\n",
       "</table>\n",
       "</div>"
      ],
      "text/plain": [
       "                           tech_rep\n",
       "source                             \n",
       "Cordova                       66202\n",
       "Diidxazá                       1059\n",
       "San Juan Mixtepec Zapotec      1804\n",
       "Zenzontepec Chatino            1020"
      ]
     },
     "execution_count": 17,
     "metadata": {},
     "output_type": "execute_result"
    }
   ],
   "source": [
    "df_source_and_words.groupby([\"source\"]).count()\n",
    "# need to make a datafram out of these but they are wildly the wronf shapes\n",
    "# would it be bad practice to just continuely take 1020 from each of them until all possible"
   ]
  },
  {
   "cell_type": "code",
   "execution_count": null,
   "metadata": {},
   "outputs": [
    {
     "data": {
      "text/plain": [
       "['San Juan Mixtepec Zapotec', 'Zenzontepec Chatino', 'Diidxazá', 'Cordova']"
      ]
     },
     "execution_count": 18,
     "metadata": {},
     "output_type": "execute_result"
    }
   ],
   "source": [
    "langs = pd.unique(df_source_and_words[\"source\"].dropna()).tolist()\n",
    "langs"
   ]
  },
  {
   "cell_type": "code",
   "execution_count": null,
   "metadata": {},
   "outputs": [],
   "source": [
    "dic = {'San Juan Mixtepec Zapotec':[],'Zenzontepec Chatino':[],'Diidxazá':[],'Cordova':[]}"
   ]
  },
  {
   "cell_type": "code",
   "execution_count": null,
   "metadata": {},
   "outputs": [
    {
     "name": "stdout",
     "output_type": "stream",
     "text": [
      "longest word                                                 tech_rep   source\n",
      "19237  tòagrpreteritocotòagrfuturohuetòuaquitòuacorti...  Cordova\n"
     ]
    }
   ],
   "source": [
    "\n",
    "max_len = 0\n",
    "max_index = 0\n",
    "for lang in langs:\n",
    "    for index, row in df_source_and_words.iterrows():\n",
    "        if len(row[\"tech_rep\"]) > max_len:\n",
    "            max_len = len(row[\"tech_rep\"])\n",
    "            max_index = index\n",
    "        if row[\"source\"] == lang:\n",
    "            dic[lang].append(row[\"tech_rep\"])\n",
    "\n",
    "print(\"longest word\",df_source_and_words.loc[df_source_and_words.index == max_index])"
   ]
  },
  {
   "cell_type": "code",
   "execution_count": null,
   "metadata": {},
   "outputs": [
    {
     "name": "stdout",
     "output_type": "stream",
     "text": [
      "legnth of longest word 93\n"
     ]
    }
   ],
   "source": [
    "print(\"legnth of longest word\",max_len)"
   ]
  },
  {
   "cell_type": "code",
   "execution_count": null,
   "metadata": {},
   "outputs": [
    {
     "ename": "ValueError",
     "evalue": "arrays must all be same length",
     "output_type": "error",
     "traceback": [
      "\u001b[0;31m---------------------------------------------------------------------------\u001b[0m",
      "\u001b[0;31mValueError\u001b[0m                                Traceback (most recent call last)",
      "\u001b[0;32m<ipython-input-28-092e90e5765f>\u001b[0m in \u001b[0;36m<module>\u001b[0;34m\u001b[0m\n\u001b[0;32m----> 1\u001b[0;31m \u001b[0mpd\u001b[0m\u001b[0;34m.\u001b[0m\u001b[0mDataFrame\u001b[0m\u001b[0;34m.\u001b[0m\u001b[0mfrom_dict\u001b[0m\u001b[0;34m(\u001b[0m\u001b[0mdata\u001b[0m \u001b[0;34m=\u001b[0m \u001b[0mdic\u001b[0m\u001b[0;34m)\u001b[0m\u001b[0;34m\u001b[0m\u001b[0;34m\u001b[0m\u001b[0m\n\u001b[0m",
      "\u001b[0;32m~/opt/anaconda3/lib/python3.8/site-packages/pandas/core/frame.py\u001b[0m in \u001b[0;36mfrom_dict\u001b[0;34m(cls, data, orient, dtype, columns)\u001b[0m\n\u001b[1;32m   1307\u001b[0m             \u001b[0;32mraise\u001b[0m \u001b[0mValueError\u001b[0m\u001b[0;34m(\u001b[0m\u001b[0;34m\"only recognize index or columns for orient\"\u001b[0m\u001b[0;34m)\u001b[0m\u001b[0;34m\u001b[0m\u001b[0;34m\u001b[0m\u001b[0m\n\u001b[1;32m   1308\u001b[0m \u001b[0;34m\u001b[0m\u001b[0m\n\u001b[0;32m-> 1309\u001b[0;31m         \u001b[0;32mreturn\u001b[0m \u001b[0mcls\u001b[0m\u001b[0;34m(\u001b[0m\u001b[0mdata\u001b[0m\u001b[0;34m,\u001b[0m \u001b[0mindex\u001b[0m\u001b[0;34m=\u001b[0m\u001b[0mindex\u001b[0m\u001b[0;34m,\u001b[0m \u001b[0mcolumns\u001b[0m\u001b[0;34m=\u001b[0m\u001b[0mcolumns\u001b[0m\u001b[0;34m,\u001b[0m \u001b[0mdtype\u001b[0m\u001b[0;34m=\u001b[0m\u001b[0mdtype\u001b[0m\u001b[0;34m)\u001b[0m\u001b[0;34m\u001b[0m\u001b[0;34m\u001b[0m\u001b[0m\n\u001b[0m\u001b[1;32m   1310\u001b[0m \u001b[0;34m\u001b[0m\u001b[0m\n\u001b[1;32m   1311\u001b[0m     def to_numpy(\n",
      "\u001b[0;32m~/opt/anaconda3/lib/python3.8/site-packages/pandas/core/frame.py\u001b[0m in \u001b[0;36m__init__\u001b[0;34m(self, data, index, columns, dtype, copy)\u001b[0m\n\u001b[1;32m    466\u001b[0m \u001b[0;34m\u001b[0m\u001b[0m\n\u001b[1;32m    467\u001b[0m         \u001b[0;32melif\u001b[0m \u001b[0misinstance\u001b[0m\u001b[0;34m(\u001b[0m\u001b[0mdata\u001b[0m\u001b[0;34m,\u001b[0m \u001b[0mdict\u001b[0m\u001b[0;34m)\u001b[0m\u001b[0;34m:\u001b[0m\u001b[0;34m\u001b[0m\u001b[0;34m\u001b[0m\u001b[0m\n\u001b[0;32m--> 468\u001b[0;31m             \u001b[0mmgr\u001b[0m \u001b[0;34m=\u001b[0m \u001b[0minit_dict\u001b[0m\u001b[0;34m(\u001b[0m\u001b[0mdata\u001b[0m\u001b[0;34m,\u001b[0m \u001b[0mindex\u001b[0m\u001b[0;34m,\u001b[0m \u001b[0mcolumns\u001b[0m\u001b[0;34m,\u001b[0m \u001b[0mdtype\u001b[0m\u001b[0;34m=\u001b[0m\u001b[0mdtype\u001b[0m\u001b[0;34m)\u001b[0m\u001b[0;34m\u001b[0m\u001b[0;34m\u001b[0m\u001b[0m\n\u001b[0m\u001b[1;32m    469\u001b[0m         \u001b[0;32melif\u001b[0m \u001b[0misinstance\u001b[0m\u001b[0;34m(\u001b[0m\u001b[0mdata\u001b[0m\u001b[0;34m,\u001b[0m \u001b[0mma\u001b[0m\u001b[0;34m.\u001b[0m\u001b[0mMaskedArray\u001b[0m\u001b[0;34m)\u001b[0m\u001b[0;34m:\u001b[0m\u001b[0;34m\u001b[0m\u001b[0;34m\u001b[0m\u001b[0m\n\u001b[1;32m    470\u001b[0m             \u001b[0;32mimport\u001b[0m \u001b[0mnumpy\u001b[0m\u001b[0;34m.\u001b[0m\u001b[0mma\u001b[0m\u001b[0;34m.\u001b[0m\u001b[0mmrecords\u001b[0m \u001b[0;32mas\u001b[0m \u001b[0mmrecords\u001b[0m\u001b[0;34m\u001b[0m\u001b[0;34m\u001b[0m\u001b[0m\n",
      "\u001b[0;32m~/opt/anaconda3/lib/python3.8/site-packages/pandas/core/internals/construction.py\u001b[0m in \u001b[0;36minit_dict\u001b[0;34m(data, index, columns, dtype)\u001b[0m\n\u001b[1;32m    281\u001b[0m             \u001b[0marr\u001b[0m \u001b[0;32mif\u001b[0m \u001b[0;32mnot\u001b[0m \u001b[0mis_datetime64tz_dtype\u001b[0m\u001b[0;34m(\u001b[0m\u001b[0marr\u001b[0m\u001b[0;34m)\u001b[0m \u001b[0;32melse\u001b[0m \u001b[0marr\u001b[0m\u001b[0;34m.\u001b[0m\u001b[0mcopy\u001b[0m\u001b[0;34m(\u001b[0m\u001b[0;34m)\u001b[0m \u001b[0;32mfor\u001b[0m \u001b[0marr\u001b[0m \u001b[0;32min\u001b[0m \u001b[0marrays\u001b[0m\u001b[0;34m\u001b[0m\u001b[0;34m\u001b[0m\u001b[0m\n\u001b[1;32m    282\u001b[0m         ]\n\u001b[0;32m--> 283\u001b[0;31m     \u001b[0;32mreturn\u001b[0m \u001b[0marrays_to_mgr\u001b[0m\u001b[0;34m(\u001b[0m\u001b[0marrays\u001b[0m\u001b[0;34m,\u001b[0m \u001b[0mdata_names\u001b[0m\u001b[0;34m,\u001b[0m \u001b[0mindex\u001b[0m\u001b[0;34m,\u001b[0m \u001b[0mcolumns\u001b[0m\u001b[0;34m,\u001b[0m \u001b[0mdtype\u001b[0m\u001b[0;34m=\u001b[0m\u001b[0mdtype\u001b[0m\u001b[0;34m)\u001b[0m\u001b[0;34m\u001b[0m\u001b[0;34m\u001b[0m\u001b[0m\n\u001b[0m\u001b[1;32m    284\u001b[0m \u001b[0;34m\u001b[0m\u001b[0m\n\u001b[1;32m    285\u001b[0m \u001b[0;34m\u001b[0m\u001b[0m\n",
      "\u001b[0;32m~/opt/anaconda3/lib/python3.8/site-packages/pandas/core/internals/construction.py\u001b[0m in \u001b[0;36marrays_to_mgr\u001b[0;34m(arrays, arr_names, index, columns, dtype, verify_integrity)\u001b[0m\n\u001b[1;32m     76\u001b[0m         \u001b[0;31m# figure out the index, if necessary\u001b[0m\u001b[0;34m\u001b[0m\u001b[0;34m\u001b[0m\u001b[0;34m\u001b[0m\u001b[0m\n\u001b[1;32m     77\u001b[0m         \u001b[0;32mif\u001b[0m \u001b[0mindex\u001b[0m \u001b[0;32mis\u001b[0m \u001b[0;32mNone\u001b[0m\u001b[0;34m:\u001b[0m\u001b[0;34m\u001b[0m\u001b[0;34m\u001b[0m\u001b[0m\n\u001b[0;32m---> 78\u001b[0;31m             \u001b[0mindex\u001b[0m \u001b[0;34m=\u001b[0m \u001b[0mextract_index\u001b[0m\u001b[0;34m(\u001b[0m\u001b[0marrays\u001b[0m\u001b[0;34m)\u001b[0m\u001b[0;34m\u001b[0m\u001b[0;34m\u001b[0m\u001b[0m\n\u001b[0m\u001b[1;32m     79\u001b[0m         \u001b[0;32melse\u001b[0m\u001b[0;34m:\u001b[0m\u001b[0;34m\u001b[0m\u001b[0;34m\u001b[0m\u001b[0m\n\u001b[1;32m     80\u001b[0m             \u001b[0mindex\u001b[0m \u001b[0;34m=\u001b[0m \u001b[0mensure_index\u001b[0m\u001b[0;34m(\u001b[0m\u001b[0mindex\u001b[0m\u001b[0;34m)\u001b[0m\u001b[0;34m\u001b[0m\u001b[0;34m\u001b[0m\u001b[0m\n",
      "\u001b[0;32m~/opt/anaconda3/lib/python3.8/site-packages/pandas/core/internals/construction.py\u001b[0m in \u001b[0;36mextract_index\u001b[0;34m(data)\u001b[0m\n\u001b[1;32m    395\u001b[0m             \u001b[0mlengths\u001b[0m \u001b[0;34m=\u001b[0m \u001b[0mlist\u001b[0m\u001b[0;34m(\u001b[0m\u001b[0mset\u001b[0m\u001b[0;34m(\u001b[0m\u001b[0mraw_lengths\u001b[0m\u001b[0;34m)\u001b[0m\u001b[0;34m)\u001b[0m\u001b[0;34m\u001b[0m\u001b[0;34m\u001b[0m\u001b[0m\n\u001b[1;32m    396\u001b[0m             \u001b[0;32mif\u001b[0m \u001b[0mlen\u001b[0m\u001b[0;34m(\u001b[0m\u001b[0mlengths\u001b[0m\u001b[0;34m)\u001b[0m \u001b[0;34m>\u001b[0m \u001b[0;36m1\u001b[0m\u001b[0;34m:\u001b[0m\u001b[0;34m\u001b[0m\u001b[0;34m\u001b[0m\u001b[0m\n\u001b[0;32m--> 397\u001b[0;31m                 \u001b[0;32mraise\u001b[0m \u001b[0mValueError\u001b[0m\u001b[0;34m(\u001b[0m\u001b[0;34m\"arrays must all be same length\"\u001b[0m\u001b[0;34m)\u001b[0m\u001b[0;34m\u001b[0m\u001b[0;34m\u001b[0m\u001b[0m\n\u001b[0m\u001b[1;32m    398\u001b[0m \u001b[0;34m\u001b[0m\u001b[0m\n\u001b[1;32m    399\u001b[0m             \u001b[0;32mif\u001b[0m \u001b[0mhave_dicts\u001b[0m\u001b[0;34m:\u001b[0m\u001b[0;34m\u001b[0m\u001b[0;34m\u001b[0m\u001b[0m\n",
      "\u001b[0;31mValueError\u001b[0m: arrays must all be same length"
     ]
    }
   ],
   "source": [
    "pd.DataFrame.from_dict(data = dic)"
   ]
  },
  {
   "cell_type": "code",
   "execution_count": null,
   "metadata": {},
   "outputs": [],
   "source": []
  }
 ],
 "metadata": {
  "interpreter": {
   "hash": "680bee9ad23c5eb1f922350c8702fc327c938148d42c073c92e43904e49ca0ea"
  },
  "kernelspec": {
   "display_name": "Python 3.8.5 64-bit ('base': conda)",
   "name": "python3"
  },
  "language_info": {
   "codemirror_mode": {
    "name": "ipython",
    "version": 3
   },
   "file_extension": ".py",
   "mimetype": "text/x-python",
   "name": "python",
   "nbconvert_exporter": "python",
   "pygments_lexer": "ipython3",
   "version": "3.8.5"
  }
 },
 "nbformat": 4,
 "nbformat_minor": 2
}
